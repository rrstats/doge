{
  "cells": [
    {
      "cell_type": "markdown",
      "metadata": {
        "id": "view-in-github",
        "colab_type": "text"
      },
      "source": [
        "<a href=\"https://colab.research.google.com/github/rrstats/doge/blob/main/DOGE_USD.ipynb\" target=\"_parent\"><img src=\"https://colab.research.google.com/assets/colab-badge.svg\" alt=\"Open In Colab\"/></a>"
      ]
    },
    {
      "cell_type": "code",
      "execution_count": null,
      "metadata": {
        "id": "j9yublaX6rYe"
      },
      "outputs": [],
      "source": [
        "from datascience import*\n",
        "import numpy as np\n",
        "\n",
        "%matplotlib inline\n",
        "import matplotlib.pyplot as plots\n",
        "plots.style.use('fivethirtyeight')\n",
        "import pandas as pd\n",
        "import datetime as datetime"
      ]
    },
    {
      "cell_type": "code",
      "execution_count": null,
      "metadata": {
        "colab": {
          "base_uri": "https://localhost:8080/",
          "height": 392
        },
        "id": "4RaBaNXl6s3i",
        "outputId": "4dde463f-07e0-4b4f-b204-1c0e7ab49340"
      },
      "outputs": [
        {
          "output_type": "execute_result",
          "data": {
            "text/plain": [
              "Date       | Open     | High     | Low      | Close    | Adj Close | Volume\n",
              "2021-04-27 | 0.271427 | 0.279629 | 0.264928 | 0.272188 | 0.272188  | 3590611310\n",
              "2021-04-28 | 0.272273 | 0.344662 | 0.256231 | 0.323682 | 0.323682  | 14464343767\n",
              "2021-04-29 | 0.323232 | 0.323881 | 0.296904 | 0.305169 | 0.305169  | 5027354503\n",
              "2021-04-30 | 0.304702 | 0.339757 | 0.302981 | 0.337561 | 0.337561  | 5290390982\n",
              "2021-05-01 | 0.337559 | 0.397135 | 0.32829  | 0.392987 | 0.392987  | 10123343703\n",
              "2021-05-02 | 0.391087 | 0.400029 | 0.364874 | 0.376046 | 0.376046  | 8040406918\n",
              "2021-05-03 | 0.373631 | 0.445567 | 0.373631 | 0.441707 | 0.441707  | 10526649978\n",
              "2021-05-04 | 0.440274 | 0.605998 | 0.4008   | 0.541334 | 0.541334  | 38238126181\n",
              "2021-05-05 | 0.537355 | 0.695262 | 0.523822 | 0.657633 | 0.657633  | 42525098292\n",
              "2021-05-06 | 0.652842 | 0.663616 | 0.545102 | 0.580804 | 0.580804  | 18989900291\n",
              "... (356 rows omitted)"
            ],
            "text/html": [
              "<table border=\"1\" class=\"dataframe\">\n",
              "    <thead>\n",
              "        <tr>\n",
              "            <th>Date</th> <th>Open</th> <th>High</th> <th>Low</th> <th>Close</th> <th>Adj Close</th> <th>Volume</th>\n",
              "        </tr>\n",
              "    </thead>\n",
              "    <tbody>\n",
              "        <tr>\n",
              "            <td>2021-04-27</td> <td>0.271427</td> <td>0.279629</td> <td>0.264928</td> <td>0.272188</td> <td>0.272188 </td> <td>3590611310 </td>\n",
              "        </tr>\n",
              "        <tr>\n",
              "            <td>2021-04-28</td> <td>0.272273</td> <td>0.344662</td> <td>0.256231</td> <td>0.323682</td> <td>0.323682 </td> <td>14464343767</td>\n",
              "        </tr>\n",
              "        <tr>\n",
              "            <td>2021-04-29</td> <td>0.323232</td> <td>0.323881</td> <td>0.296904</td> <td>0.305169</td> <td>0.305169 </td> <td>5027354503 </td>\n",
              "        </tr>\n",
              "        <tr>\n",
              "            <td>2021-04-30</td> <td>0.304702</td> <td>0.339757</td> <td>0.302981</td> <td>0.337561</td> <td>0.337561 </td> <td>5290390982 </td>\n",
              "        </tr>\n",
              "        <tr>\n",
              "            <td>2021-05-01</td> <td>0.337559</td> <td>0.397135</td> <td>0.32829 </td> <td>0.392987</td> <td>0.392987 </td> <td>10123343703</td>\n",
              "        </tr>\n",
              "        <tr>\n",
              "            <td>2021-05-02</td> <td>0.391087</td> <td>0.400029</td> <td>0.364874</td> <td>0.376046</td> <td>0.376046 </td> <td>8040406918 </td>\n",
              "        </tr>\n",
              "        <tr>\n",
              "            <td>2021-05-03</td> <td>0.373631</td> <td>0.445567</td> <td>0.373631</td> <td>0.441707</td> <td>0.441707 </td> <td>10526649978</td>\n",
              "        </tr>\n",
              "        <tr>\n",
              "            <td>2021-05-04</td> <td>0.440274</td> <td>0.605998</td> <td>0.4008  </td> <td>0.541334</td> <td>0.541334 </td> <td>38238126181</td>\n",
              "        </tr>\n",
              "        <tr>\n",
              "            <td>2021-05-05</td> <td>0.537355</td> <td>0.695262</td> <td>0.523822</td> <td>0.657633</td> <td>0.657633 </td> <td>42525098292</td>\n",
              "        </tr>\n",
              "        <tr>\n",
              "            <td>2021-05-06</td> <td>0.652842</td> <td>0.663616</td> <td>0.545102</td> <td>0.580804</td> <td>0.580804 </td> <td>18989900291</td>\n",
              "        </tr>\n",
              "    </tbody>\n",
              "</table>\n",
              "<p>... (356 rows omitted)</p>"
            ]
          },
          "metadata": {},
          "execution_count": 73
        }
      ],
      "source": [
        "doge = Table().read_table('DOGE-USD.csv')\n",
        "doge"
      ]
    },
    {
      "cell_type": "code",
      "execution_count": null,
      "metadata": {
        "id": "gAwp9uR5X36u"
      },
      "outputs": [],
      "source": [
        "weekdays = make_array('Sunday', 'Monday', 'Tuesday', 'Wednesday', 'Thursday', 'Friday', 'Saturday')"
      ]
    },
    {
      "cell_type": "code",
      "execution_count": null,
      "metadata": {
        "id": "31h6Jtp2bKK-"
      },
      "outputs": [],
      "source": [
        "def day(date):\n",
        "  dt = date\n",
        "  year, month, day = (int(x) for x in dt.split('-'))\n",
        "  weekday_name = datetime.date(year, month, day)\n",
        "  return weekday_name.strftime('%A')\n",
        " "
      ]
    },
    {
      "cell_type": "code",
      "execution_count": null,
      "metadata": {
        "colab": {
          "base_uri": "https://localhost:8080/",
          "height": 392
        },
        "id": "lTd2FXdPbJ2R",
        "outputId": "03898009-1437-436b-838a-ecffd98d412d"
      },
      "outputs": [
        {
          "output_type": "execute_result",
          "data": {
            "text/plain": [
              "Date       | Open     | High     | Low      | Close    | Adj Close | Volume      | Day\n",
              "2021-04-27 | 0.271427 | 0.279629 | 0.264928 | 0.272188 | 0.272188  | 3590611310  | Tuesday\n",
              "2021-04-28 | 0.272273 | 0.344662 | 0.256231 | 0.323682 | 0.323682  | 14464343767 | Wednesday\n",
              "2021-04-29 | 0.323232 | 0.323881 | 0.296904 | 0.305169 | 0.305169  | 5027354503  | Thursday\n",
              "2021-04-30 | 0.304702 | 0.339757 | 0.302981 | 0.337561 | 0.337561  | 5290390982  | Friday\n",
              "2021-05-01 | 0.337559 | 0.397135 | 0.32829  | 0.392987 | 0.392987  | 10123343703 | Saturday\n",
              "2021-05-02 | 0.391087 | 0.400029 | 0.364874 | 0.376046 | 0.376046  | 8040406918  | Sunday\n",
              "2021-05-03 | 0.373631 | 0.445567 | 0.373631 | 0.441707 | 0.441707  | 10526649978 | Monday\n",
              "2021-05-04 | 0.440274 | 0.605998 | 0.4008   | 0.541334 | 0.541334  | 38238126181 | Tuesday\n",
              "2021-05-05 | 0.537355 | 0.695262 | 0.523822 | 0.657633 | 0.657633  | 42525098292 | Wednesday\n",
              "2021-05-06 | 0.652842 | 0.663616 | 0.545102 | 0.580804 | 0.580804  | 18989900291 | Thursday\n",
              "... (356 rows omitted)"
            ],
            "text/html": [
              "<table border=\"1\" class=\"dataframe\">\n",
              "    <thead>\n",
              "        <tr>\n",
              "            <th>Date</th> <th>Open</th> <th>High</th> <th>Low</th> <th>Close</th> <th>Adj Close</th> <th>Volume</th> <th>Day</th>\n",
              "        </tr>\n",
              "    </thead>\n",
              "    <tbody>\n",
              "        <tr>\n",
              "            <td>2021-04-27</td> <td>0.271427</td> <td>0.279629</td> <td>0.264928</td> <td>0.272188</td> <td>0.272188 </td> <td>3590611310 </td> <td>Tuesday  </td>\n",
              "        </tr>\n",
              "        <tr>\n",
              "            <td>2021-04-28</td> <td>0.272273</td> <td>0.344662</td> <td>0.256231</td> <td>0.323682</td> <td>0.323682 </td> <td>14464343767</td> <td>Wednesday</td>\n",
              "        </tr>\n",
              "        <tr>\n",
              "            <td>2021-04-29</td> <td>0.323232</td> <td>0.323881</td> <td>0.296904</td> <td>0.305169</td> <td>0.305169 </td> <td>5027354503 </td> <td>Thursday </td>\n",
              "        </tr>\n",
              "        <tr>\n",
              "            <td>2021-04-30</td> <td>0.304702</td> <td>0.339757</td> <td>0.302981</td> <td>0.337561</td> <td>0.337561 </td> <td>5290390982 </td> <td>Friday   </td>\n",
              "        </tr>\n",
              "        <tr>\n",
              "            <td>2021-05-01</td> <td>0.337559</td> <td>0.397135</td> <td>0.32829 </td> <td>0.392987</td> <td>0.392987 </td> <td>10123343703</td> <td>Saturday </td>\n",
              "        </tr>\n",
              "        <tr>\n",
              "            <td>2021-05-02</td> <td>0.391087</td> <td>0.400029</td> <td>0.364874</td> <td>0.376046</td> <td>0.376046 </td> <td>8040406918 </td> <td>Sunday   </td>\n",
              "        </tr>\n",
              "        <tr>\n",
              "            <td>2021-05-03</td> <td>0.373631</td> <td>0.445567</td> <td>0.373631</td> <td>0.441707</td> <td>0.441707 </td> <td>10526649978</td> <td>Monday   </td>\n",
              "        </tr>\n",
              "        <tr>\n",
              "            <td>2021-05-04</td> <td>0.440274</td> <td>0.605998</td> <td>0.4008  </td> <td>0.541334</td> <td>0.541334 </td> <td>38238126181</td> <td>Tuesday  </td>\n",
              "        </tr>\n",
              "        <tr>\n",
              "            <td>2021-05-05</td> <td>0.537355</td> <td>0.695262</td> <td>0.523822</td> <td>0.657633</td> <td>0.657633 </td> <td>42525098292</td> <td>Wednesday</td>\n",
              "        </tr>\n",
              "        <tr>\n",
              "            <td>2021-05-06</td> <td>0.652842</td> <td>0.663616</td> <td>0.545102</td> <td>0.580804</td> <td>0.580804 </td> <td>18989900291</td> <td>Thursday </td>\n",
              "        </tr>\n",
              "    </tbody>\n",
              "</table>\n",
              "<p>... (356 rows omitted)</p>"
            ]
          },
          "metadata": {},
          "execution_count": 76
        }
      ],
      "source": [
        "doge = doge.with_columns('Day', doge.apply(day, 'Date'))\n",
        "doge"
      ]
    },
    {
      "cell_type": "code",
      "execution_count": null,
      "metadata": {
        "colab": {
          "base_uri": "https://localhost:8080/",
          "height": 392
        },
        "id": "OvS4gquQ7FQm",
        "outputId": "055682a8-fddc-423f-d866-fb91d933f5fe"
      },
      "outputs": [
        {
          "output_type": "execute_result",
          "data": {
            "text/plain": [
              "Date       | Volume      | Day\n",
              "2021-04-27 | 3590611310  | Tuesday\n",
              "2021-04-28 | 14464343767 | Wednesday\n",
              "2021-04-29 | 5027354503  | Thursday\n",
              "2021-04-30 | 5290390982  | Friday\n",
              "2021-05-01 | 10123343703 | Saturday\n",
              "2021-05-02 | 8040406918  | Sunday\n",
              "2021-05-03 | 10526649978 | Monday\n",
              "2021-05-04 | 38238126181 | Tuesday\n",
              "2021-05-05 | 42525098292 | Wednesday\n",
              "2021-05-06 | 18989900291 | Thursday\n",
              "... (356 rows omitted)"
            ],
            "text/html": [
              "<table border=\"1\" class=\"dataframe\">\n",
              "    <thead>\n",
              "        <tr>\n",
              "            <th>Date</th> <th>Volume</th> <th>Day</th>\n",
              "        </tr>\n",
              "    </thead>\n",
              "    <tbody>\n",
              "        <tr>\n",
              "            <td>2021-04-27</td> <td>3590611310 </td> <td>Tuesday  </td>\n",
              "        </tr>\n",
              "        <tr>\n",
              "            <td>2021-04-28</td> <td>14464343767</td> <td>Wednesday</td>\n",
              "        </tr>\n",
              "        <tr>\n",
              "            <td>2021-04-29</td> <td>5027354503 </td> <td>Thursday </td>\n",
              "        </tr>\n",
              "        <tr>\n",
              "            <td>2021-04-30</td> <td>5290390982 </td> <td>Friday   </td>\n",
              "        </tr>\n",
              "        <tr>\n",
              "            <td>2021-05-01</td> <td>10123343703</td> <td>Saturday </td>\n",
              "        </tr>\n",
              "        <tr>\n",
              "            <td>2021-05-02</td> <td>8040406918 </td> <td>Sunday   </td>\n",
              "        </tr>\n",
              "        <tr>\n",
              "            <td>2021-05-03</td> <td>10526649978</td> <td>Monday   </td>\n",
              "        </tr>\n",
              "        <tr>\n",
              "            <td>2021-05-04</td> <td>38238126181</td> <td>Tuesday  </td>\n",
              "        </tr>\n",
              "        <tr>\n",
              "            <td>2021-05-05</td> <td>42525098292</td> <td>Wednesday</td>\n",
              "        </tr>\n",
              "        <tr>\n",
              "            <td>2021-05-06</td> <td>18989900291</td> <td>Thursday </td>\n",
              "        </tr>\n",
              "    </tbody>\n",
              "</table>\n",
              "<p>... (356 rows omitted)</p>"
            ]
          },
          "metadata": {},
          "execution_count": 77
        }
      ],
      "source": [
        "vol = doge.select('Date', 'Volume', 'Day')\n",
        "vol"
      ]
    },
    {
      "cell_type": "code",
      "execution_count": null,
      "metadata": {
        "id": "hxsbx-HaVvec"
      },
      "outputs": [],
      "source": [
        "def weekday_total(tab1):\n",
        "  tots=[]\n",
        "  weekdays = make_array('Sunday', 'Monday', 'Tuesday', 'Wednesday', 'Thursday', 'Friday', 'Saturday')\n",
        "\n",
        "  for i in weekdays:\n",
        "    volume = tab1.where('Day', are.containing(i)).column('Volume')\n",
        "    #print(volume)\n",
        "    tots.append(np.sum(volume))\n",
        "  return tots\n"
      ]
    },
    {
      "cell_type": "code",
      "execution_count": null,
      "metadata": {
        "colab": {
          "base_uri": "https://localhost:8080/"
        },
        "id": "YX3aC4yqWt9C",
        "outputId": "aad9e490-e4a6-410c-cb58-a58b4cced7ee"
      },
      "outputs": [
        {
          "output_type": "execute_result",
          "data": {
            "text/plain": [
              "[145385689898,\n",
              " 138922718113,\n",
              " 170053925149,\n",
              " 186506744985,\n",
              " 155756598156,\n",
              " 150749821779,\n",
              " 121591599455]"
            ]
          },
          "metadata": {},
          "execution_count": 88
        }
      ],
      "source": [
        "weekday_total(vol)"
      ]
    },
    {
      "cell_type": "code",
      "execution_count": null,
      "metadata": {
        "colab": {
          "base_uri": "https://localhost:8080/",
          "height": 301
        },
        "id": "lemB-BuP7XsL",
        "outputId": "23e4b1ed-d236-4525-ba36-e02d5068ff72"
      },
      "outputs": [
        {
          "output_type": "display_data",
          "data": {
            "text/plain": [
              "<Figure size 432x288 with 1 Axes>"
            ],
            "image/png": "[encoded data removed]"
          },
          "metadata": {}
        }
      ],
      "source": [
        "vol_tab = Table().with_columns('Day', weekdays,\n",
        "                               'Total Volume', weekday_total(vol))\n",
        "vol_tab.sort('Total Volume', descending=True).barh('Day')"
      ]
    },
    {
      "cell_type": "code",
      "execution_count": null,
      "metadata": {
        "id": "hWGWJKOd_Dtn"
      },
      "outputs": [],
      "source": [
        "def weekday_median_volume(tab1):\n",
        "  medians=[]\n",
        "  for i in weekdays:\n",
        "    volume = tab1.where('Day', are.containing(i)).column('Volume')\n",
        "    #print(volume)\n",
        "    medians.append(np.median(volume))\n",
        "  return medians\n"
      ]
    },
    {
      "cell_type": "code",
      "execution_count": null,
      "metadata": {
        "colab": {
          "base_uri": "https://localhost:8080/"
        },
        "id": "3F3dd1C97fOk",
        "outputId": "1ef3e038-dfe0-4c96-f323-defe27f26562"
      },
      "outputs": [
        {
          "output_type": "execute_result",
          "data": {
            "text/plain": [
              "[1260336793.0,\n",
              " 1681399646.0,\n",
              " 1766963639.0,\n",
              " 1543405154.0,\n",
              " 1629111897.5,\n",
              " 1561453016.0,\n",
              " 1181198332.0]"
            ]
          },
          "metadata": {},
          "execution_count": 91
        }
      ],
      "source": [
        "weekday_median_volume(vol)"
      ]
    },
    {
      "cell_type": "code",
      "execution_count": null,
      "metadata": {
        "colab": {
          "base_uri": "https://localhost:8080/",
          "height": 301
        },
        "id": "Sc-6ZeUq-B8e",
        "outputId": "50d23fb0-9125-4728-eed0-422afaca300d"
      },
      "outputs": [
        {
          "output_type": "display_data",
          "data": {
            "text/plain": [
              "<Figure size 432x288 with 1 Axes>"
            ],
            "image/png": "[encoded data removed]"
          },
          "metadata": {}
        }
      ],
      "source": [
        "vol_tab = vol_tab.with_columns('Median Volume', weekday_median_volume(vol))\n",
        "vol_tab.select('Median Volume', 'Day').sort('Median Volume', descending=True).barh('Day')"
      ]
    },
    {
      "cell_type": "code",
      "execution_count": null,
      "metadata": {
        "id": "cYwXGqV9c8np"
      },
      "outputs": [],
      "source": [
        "def weekday_mean_volume(tab1):\n",
        "  means=[]\n",
        "  for i in weekdays:\n",
        "    volume = tab1.where('Day', are.containing(i)).column('Volume')\n",
        "    #print(volume)\n",
        "    means.append(np.mean(volume))\n",
        "  return means\n"
      ]
    },
    {
      "cell_type": "code",
      "execution_count": null,
      "metadata": {
        "id": "xhEFjG9dZQ6D",
        "colab": {
          "base_uri": "https://localhost:8080/"
        },
        "outputId": "b92d59dc-5844-4aec-9614-845262ac97d9"
      },
      "outputs": [
        {
          "output_type": "execute_result",
          "data": {
            "text/plain": [
              "[2795878651.8846154,\n",
              " 2671590732.9423075,\n",
              " 3208564625.4528303,\n",
              " 3518995188.3962264,\n",
              " 2995319195.3076925,\n",
              " 2899035034.2115383,\n",
              " 2338299989.519231]"
            ]
          },
          "metadata": {},
          "execution_count": 94
        }
      ],
      "source": [
        "weekday_mean_volume(vol)"
      ]
    },
    {
      "cell_type": "code",
      "source": [
        "vol_table = Table().with_columns('Day', weekdays,\n",
        "                                 'Total Volume', weekday_total(vol),\n",
        "                                 'Mean Volume', weekday_mean_volume(vol),\n",
        "                                 'Median Volume', weekday_median_volume(vol))\n",
        "vol_table"
      ],
      "metadata": {
        "colab": {
          "base_uri": "https://localhost:8080/",
          "height": 269
        },
        "id": "jOt0IPJbPUEd",
        "outputId": "ef310d61-3cfc-4dc0-f513-6fec93f50487"
      },
      "execution_count": null,
      "outputs": [
        {
          "output_type": "execute_result",
          "data": {
            "text/plain": [
              "Day       | Total Volume | Mean Volume | Median Volume\n",
              "Sunday    | 145385689898 | 2.79588e+09 | 1.26034e+09\n",
              "Monday    | 138922718113 | 2.67159e+09 | 1.6814e+09\n",
              "Tuesday   | 170053925149 | 3.20856e+09 | 1.76696e+09\n",
              "Wednesday | 186506744985 | 3.519e+09   | 1.54341e+09\n",
              "Thursday  | 155756598156 | 2.99532e+09 | 1.62911e+09\n",
              "Friday    | 150749821779 | 2.89904e+09 | 1.56145e+09\n",
              "Saturday  | 121591599455 | 2.3383e+09  | 1.1812e+09"
            ],
            "text/html": [
              "<table border=\"1\" class=\"dataframe\">\n",
              "    <thead>\n",
              "        <tr>\n",
              "            <th>Day</th> <th>Total Volume</th> <th>Mean Volume</th> <th>Median Volume</th>\n",
              "        </tr>\n",
              "    </thead>\n",
              "    <tbody>\n",
              "        <tr>\n",
              "            <td>Sunday   </td> <td>145385689898</td> <td>2.79588e+09</td> <td>1.26034e+09  </td>\n",
              "        </tr>\n",
              "        <tr>\n",
              "            <td>Monday   </td> <td>138922718113</td> <td>2.67159e+09</td> <td>1.6814e+09   </td>\n",
              "        </tr>\n",
              "        <tr>\n",
              "            <td>Tuesday  </td> <td>170053925149</td> <td>3.20856e+09</td> <td>1.76696e+09  </td>\n",
              "        </tr>\n",
              "        <tr>\n",
              "            <td>Wednesday</td> <td>186506744985</td> <td>3.519e+09  </td> <td>1.54341e+09  </td>\n",
              "        </tr>\n",
              "        <tr>\n",
              "            <td>Thursday </td> <td>155756598156</td> <td>2.99532e+09</td> <td>1.62911e+09  </td>\n",
              "        </tr>\n",
              "        <tr>\n",
              "            <td>Friday   </td> <td>150749821779</td> <td>2.89904e+09</td> <td>1.56145e+09  </td>\n",
              "        </tr>\n",
              "        <tr>\n",
              "            <td>Saturday </td> <td>121591599455</td> <td>2.3383e+09 </td> <td>1.1812e+09   </td>\n",
              "        </tr>\n",
              "    </tbody>\n",
              "</table>"
            ]
          },
          "metadata": {},
          "execution_count": 96
        }
      ]
    },
    {
      "cell_type": "code",
      "source": [
        "vol_table.drop('Total Volume').sort('Mean Volume', descending=True).barh('Day'),\n",
        "vol_table.drop('Total Volume').sort('Median Volume', descending=True).barh('Day')"
      ],
      "metadata": {
        "colab": {
          "base_uri": "https://localhost:8080/",
          "height": 581
        },
        "id": "ODINA0MAPo9m",
        "outputId": "cf2f1b06-e08c-47c3-a619-12ef8830dfb5"
      },
      "execution_count": null,
      "outputs": [
        {
          "output_type": "display_data",
          "data": {
            "text/plain": [
              "<Figure size 432x288 with 1 Axes>"
            ],
            "image/png": "[encoded data removed]"
          },
          "metadata": {}
        },
        {
          "output_type": "display_data",
          "data": {
            "text/plain": [
              "<Figure size 432x288 with 1 Axes>"
            ],
            "image/png": "[encoded data removed]"
          },
          "metadata": {}
        }
      ]
    },
    {
      "cell_type": "markdown",
      "source": [
        "## END OF VOLUME ANALYSIS"
      ],
      "metadata": {
        "id": "rw2u3epKRVLe"
      }
    },
    {
      "cell_type": "markdown",
      "source": [
        "## PRICE ANALYSIS: TWO DAYS AT A TIME\n"
      ],
      "metadata": {
        "id": "spJMz-H6Rfc5"
      }
    },
    {
      "cell_type": "code",
      "source": [
        "#Prices only for Monday & Tuesday\n",
        "prices = doge.select('Open', 'High', 'Close', 'Day', 'Date')\n",
        "p_mon_tue = prices.where('Day', are.not_containing('Wedn')).where(\n",
        "    'Day', are.not_containing('Thur')).where(\n",
        "        'Day', are.not_containing('Fri')).where(\n",
        "            'Day', are.not_containing('Sat')).where(\n",
        "                'Day', are.not_containing('Sund'))\n",
        "p_mon_tue"
      ],
      "metadata": {
        "colab": {
          "base_uri": "https://localhost:8080/",
          "height": 392
        },
        "id": "J_NLP4V1Qbot",
        "outputId": "0eba44d6-c528-4da4-c070-292980e94097"
      },
      "execution_count": null,
      "outputs": [
        {
          "output_type": "execute_result",
          "data": {
            "text/plain": [
              "Open     | High     | Close    | Day     | Date\n",
              "0.271427 | 0.279629 | 0.272188 | Tuesday | 2021-04-27\n",
              "0.373631 | 0.445567 | 0.441707 | Monday  | 2021-05-03\n",
              "0.440274 | 0.605998 | 0.541334 | Tuesday | 2021-05-04\n",
              "0.569687 | 0.569687 | 0.449964 | Monday  | 2021-05-10\n",
              "0.450488 | 0.546651 | 0.495231 | Tuesday | 2021-05-11\n",
              "0.513413 | 0.515221 | 0.487892 | Monday  | 2021-05-17\n",
              "0.486954 | 0.515599 | 0.476115 | Tuesday | 2021-05-18\n",
              "0.306715 | 0.371485 | 0.366162 | Monday  | 2021-05-24\n",
              "0.366041 | 0.38001  | 0.346302 | Tuesday | 2021-05-25\n",
              "0.301949 | 0.329163 | 0.32581  | Monday  | 2021-05-31\n",
              "... (95 rows omitted)"
            ],
            "text/html": [
              "<table border=\"1\" class=\"dataframe\">\n",
              "    <thead>\n",
              "        <tr>\n",
              "            <th>Open</th> <th>High</th> <th>Close</th> <th>Day</th> <th>Date</th>\n",
              "        </tr>\n",
              "    </thead>\n",
              "    <tbody>\n",
              "        <tr>\n",
              "            <td>0.271427</td> <td>0.279629</td> <td>0.272188</td> <td>Tuesday</td> <td>2021-04-27</td>\n",
              "        </tr>\n",
              "        <tr>\n",
              "            <td>0.373631</td> <td>0.445567</td> <td>0.441707</td> <td>Monday </td> <td>2021-05-03</td>\n",
              "        </tr>\n",
              "        <tr>\n",
              "            <td>0.440274</td> <td>0.605998</td> <td>0.541334</td> <td>Tuesday</td> <td>2021-05-04</td>\n",
              "        </tr>\n",
              "        <tr>\n",
              "            <td>0.569687</td> <td>0.569687</td> <td>0.449964</td> <td>Monday </td> <td>2021-05-10</td>\n",
              "        </tr>\n",
              "        <tr>\n",
              "            <td>0.450488</td> <td>0.546651</td> <td>0.495231</td> <td>Tuesday</td> <td>2021-05-11</td>\n",
              "        </tr>\n",
              "        <tr>\n",
              "            <td>0.513413</td> <td>0.515221</td> <td>0.487892</td> <td>Monday </td> <td>2021-05-17</td>\n",
              "        </tr>\n",
              "        <tr>\n",
              "            <td>0.486954</td> <td>0.515599</td> <td>0.476115</td> <td>Tuesday</td> <td>2021-05-18</td>\n",
              "        </tr>\n",
              "        <tr>\n",
              "            <td>0.306715</td> <td>0.371485</td> <td>0.366162</td> <td>Monday </td> <td>2021-05-24</td>\n",
              "        </tr>\n",
              "        <tr>\n",
              "            <td>0.366041</td> <td>0.38001 </td> <td>0.346302</td> <td>Tuesday</td> <td>2021-05-25</td>\n",
              "        </tr>\n",
              "        <tr>\n",
              "            <td>0.301949</td> <td>0.329163</td> <td>0.32581 </td> <td>Monday </td> <td>2021-05-31</td>\n",
              "        </tr>\n",
              "    </tbody>\n",
              "</table>\n",
              "<p>... (95 rows omitted)</p>"
            ]
          },
          "metadata": {},
          "execution_count": 141
        }
      ]
    },
    {
      "cell_type": "code",
      "source": [
        "#p_mon = prices.where('Day', are.containing('Mond'))\n",
        "#p_mon\n"
      ],
      "metadata": {
        "id": "lMAn2NK4SGth"
      },
      "execution_count": null,
      "outputs": []
    },
    {
      "cell_type": "code",
      "source": [
        "mon_tue = Table().with_columns(\n",
        "  'Monday', p_mon_tue.where('Day', are.containing('Day'))\n",
        ")\n",
        "mon_tue"
      ],
      "metadata": {
        "colab": {
          "base_uri": "https://localhost:8080/",
          "height": 206
        },
        "id": "oA-iyYsfTNYg",
        "outputId": "e6e1f5c7-ab71-464d-f0a9-988c44a8691b"
      },
      "execution_count": null,
      "outputs": [
        {
          "output_type": "execute_result",
          "data": {
            "text/plain": [
              "Monday\n",
              "Open\n",
              "High\n",
              "Close\n",
              "Day\n",
              "Date"
            ],
            "text/html": [
              "<table border=\"1\" class=\"dataframe\">\n",
              "    <thead>\n",
              "        <tr>\n",
              "            <th>Monday</th>\n",
              "        </tr>\n",
              "    </thead>\n",
              "    <tbody>\n",
              "        <tr>\n",
              "            <td>Open  </td>\n",
              "        </tr>\n",
              "        <tr>\n",
              "            <td>High  </td>\n",
              "        </tr>\n",
              "        <tr>\n",
              "            <td>Close </td>\n",
              "        </tr>\n",
              "        <tr>\n",
              "            <td>Day   </td>\n",
              "        </tr>\n",
              "        <tr>\n",
              "            <td>Date  </td>\n",
              "        </tr>\n",
              "    </tbody>\n",
              "</table>"
            ]
          },
          "metadata": {},
          "execution_count": 149
        }
      ]
    },
    {
      "cell_type": "code",
      "source": [
        ""
      ],
      "metadata": {
        "id": "DIBLHuS0UDCh"
      },
      "execution_count": null,
      "outputs": []
    }
  ],
  "metadata": {
    "colab": {
      "collapsed_sections": [],
      "name": "DOGE-USD.ipynb",
      "provenance": [],
      "authorship_tag": "ABX9TyP57sSijsSw3fKnTFR/9jfc",
      "include_colab_link": true
    },
    "kernelspec": {
      "display_name": "Python 3",
      "name": "python3"
    },
    "language_info": {
      "name": "python"
    }
  },
  "nbformat": 4,
  "nbformat_minor": 0
}